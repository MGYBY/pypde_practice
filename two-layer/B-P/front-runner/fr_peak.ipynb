{
 "cells": [
  {
   "cell_type": "code",
   "execution_count": 1,
   "id": "790dda91",
   "metadata": {},
   "outputs": [],
   "source": [
    "import xarray as xr\n",
    "import numpy as np\n",
    "import pandas as pd\n",
    "import csv"
   ]
  },
  {
   "cell_type": "code",
   "execution_count": null,
   "id": "d5080670",
   "metadata": {},
   "outputs": [
    {
     "name": "stderr",
     "output_type": "stream",
     "text": [
      "<>:17: SyntaxWarning: invalid escape sequence '\\s'\n",
      "<>:17: SyntaxWarning: invalid escape sequence '\\s'\n",
      "C:\\Users\\byy\\AppData\\Local\\Temp\\ipykernel_7784\\4262774452.py:17: SyntaxWarning: invalid escape sequence '\\s'\n",
      "  output = pd.read_csv(filename, header=None, sep='\\s+')\n"
     ]
    }
   ],
   "source": [
    "import os\n",
    "file_name = 'fr_peak.txt'\n",
    "os.remove(file_name)\n",
    "\n",
    "file_tot = 80\n",
    "time_arr = []\n",
    "loc_arr = []\n",
    "fr_hl_arr = []\n",
    "fr_hu_arr = []\n",
    "fr_ul_arr = []\n",
    "fr_uu_arr = []\n",
    "fr_bss_arr = []\n",
    "\n",
    "for ifile in range(file_tot):\n",
    "    filename = 'output_'+str(ifile)+'.0'\n",
    "    time = (ifile+1.0)*0.50\n",
    "    output = pd.read_csv(filename, header=None, sep='\\s+')\n",
    "    output.columns = ['x', 'y', 'hl', 'hu', 'ht', 'ql', 'qu', 'bss']\n",
    "    x_arr = output[\"x\"]\n",
    "    fr_hl_val = np.max(output[\"hl\"])\n",
    "    fr_hu_val = np.max(output[\"hu\"])\n",
    "    fr_ul_val = np.max(output[\"ql\"])/fr_hl_val\n",
    "    fr_uu_val = np.max(output[\"qu\"])/fr_hu_val\n",
    "    fr_bss_val = np.max(output[\"bss\"])\n",
    "    fr_loc = x_arr[np.argmax(output[\"hu\"])]\n",
    "    time_arr = np.append(time_arr, time)\n",
    "    fr_hl_arr = np.append(fr_hl_arr, fr_hl_val)\n",
    "    fr_hu_arr = np.append(fr_hu_arr, fr_hu_val)\n",
    "    fr_ul_arr = np.append(fr_ul_arr, fr_ul_val)\n",
    "    fr_uu_arr = np.append(fr_uu_arr, fr_uu_val)\n",
    "    fr_bss_arr = np.append(fr_bss_arr, fr_bss_val)\n",
    "    loc_arr = np.append(loc_arr, fr_loc)\n",
    "    print(\"Processed: \"+filename)\n",
    "\n",
    "# with open(file_name, 'w') as f:\n",
    "#     writer = csv.writer(f, delimiter='\\t')\n",
    "#     writer.writerows(zip(np.transpose(time_arr),np.transpose(loc_arr),np.transpose(fr_hl_arr),np.transpose(fr_hu_arr),np.transpose(fr_ul_arr),np.transpose(fr_uu_arr),np.transpose(fr_bss_arr)))\n",
    "# f.close()\n",
    "\n",
    "mat = np.zeros([len(time_arr),7])\n",
    "mat[:,0] = time_arr\n",
    "mat[:,1] = loc_arr\n",
    "mat[:,2] = fr_hl_arr\n",
    "mat[:,3] = fr_hu_arr\n",
    "mat[:,4] = fr_ul_arr\n",
    "mat[:,5] = fr_uu_arr\n",
    "mat[:,6] = fr_bss_arr\n",
    "\n",
    "np.savetxt(file_name, mat)"
   ]
  },
  {
   "cell_type": "code",
   "execution_count": 5,
   "id": "c77da2d6",
   "metadata": {},
   "outputs": [
    {
     "data": {
      "text/plain": [
       "array([  0.,   2.,   4.,   6.,   8.,  10.,  12.,  14.,  16.,  18.,  20.,\n",
       "        22.,  24.,  26.,  28.,  30.,  32.,  34.,  36.,  38.,  40.,  42.,\n",
       "        44.,  46.,  48.,  50.,  52.,  54.,  56.,  58.,  60.,  62.,  64.,\n",
       "        66.,  68.,  70.,  72.,  74.,  76.,  78.,  80.,  82.,  84.,  86.,\n",
       "        88.,  90.,  92.,  94.,  96.,  98., 100., 102., 104., 106., 108.,\n",
       "       110., 112., 114., 116., 118., 120., 122., 124., 126., 128., 130.,\n",
       "       132., 134., 136., 138., 140., 142., 144., 146., 148., 150., 152.,\n",
       "       154., 156., 158.])"
      ]
     },
     "execution_count": 5,
     "metadata": {},
     "output_type": "execute_result"
    }
   ],
   "source": [
    "time_arr"
   ]
  },
  {
   "cell_type": "code",
   "execution_count": null,
   "id": "733e107f",
   "metadata": {},
   "outputs": [],
   "source": []
  }
 ],
 "metadata": {
  "kernelspec": {
   "display_name": "base",
   "language": "python",
   "name": "python3"
  },
  "language_info": {
   "codemirror_mode": {
    "name": "ipython",
    "version": 3
   },
   "file_extension": ".py",
   "mimetype": "text/x-python",
   "name": "python",
   "nbconvert_exporter": "python",
   "pygments_lexer": "ipython3",
   "version": "3.12.7"
  }
 },
 "nbformat": 4,
 "nbformat_minor": 5
}
